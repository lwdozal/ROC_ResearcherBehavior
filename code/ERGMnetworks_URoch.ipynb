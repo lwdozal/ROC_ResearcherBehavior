{
 "cells": [
  {
   "cell_type": "markdown",
   "metadata": {},
   "source": [
    "\n",
    "## ERGM\n",
    "\n",
    "*\"...how can we know how our observed network density compares to chance?\"*\n",
    "\n",
    "With ERGMs, we ask: given a sample of networks with like characteristics as the observed network (g(y)), what is the likelihood that these simulations produce the observed network? ... we can compare the observed network statistics with statistics from simulated networks with like characteristics.\n",
    "\n",
    "ERGMs attempt to bring a linear modeling approach to network estimation by assuming that these inherent interdependencies depend mostly on network characteristics that a savvy modeler can explicitly specify. \n",
    "\n",
    "**Network density** is the ratio of the number of edges to the maximum possible number of edges\n",
    "\n",
    "\n",
    "<details>\n",
    "Quotes from: https://medium.com/@ben.roston/exponential-random-graph-models-ergms-network-analysis-and-you-2d7d756345e8\n",
    "\n",
    "https://socialabstractions-blog.tumblr.com/post/53391947460/exponential-random-graph-models-in-python\n",
    "</details>"
   ]
  },
  {
   "cell_type": "code",
   "execution_count": null,
   "metadata": {},
   "outputs": [],
   "source": [
    "import scipy as sp\n",
    "from scipy.misc import comb\n",
    "from itertools import product\n",
    "from pymc import  Normal, Bernoulli, InvLogit, MCMC,deterministic\n"
   ]
  }
 ],
 "metadata": {
  "language_info": {
   "name": "python"
  }
 },
 "nbformat": 4,
 "nbformat_minor": 2
}
