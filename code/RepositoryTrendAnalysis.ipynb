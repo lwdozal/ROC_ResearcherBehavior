{
 "cells": [
  {
   "cell_type": "markdown",
   "metadata": {},
   "source": [
    "## Measuring Impact\n",
    "This exploratory analysis measures the impact of researchers and keywords within a repository. \n",
    "\n",
    "Inspiration for this analysis was found here:https://api-lab.dimensions.ai/cookbooks/2-publications/Journal-Profile-2-Researchers-Impact-Metrics.html"
   ]
  },
  {
   "cell_type": "code",
   "execution_count": null,
   "metadata": {},
   "outputs": [],
   "source": [
    "import matplotlib.pyplot as plt\n",
    "import pandas as pd\n",
    "import numpy as np\n",
    "import plotly.express as px  # plotly>=4.8.1\n",
    "import plotly.graph_objects as go\n"
   ]
  },
  {
   "cell_type": "code",
   "execution_count": null,
   "metadata": {},
   "outputs": [],
   "source": [
    "keywords = pd.read_csv(\"data/keywords.csv\")\n",
    "author = pd.read_csv(\"data/authors.csv\")"
   ]
  },
  {
   "cell_type": "markdown",
   "metadata": {},
   "source": [
    "### Keywords\n",
    "___________________________________\n",
    "First we'll look at the impact keywords have on repositories."
   ]
  },
  {
   "cell_type": "markdown",
   "metadata": {},
   "source": [
    "Let's see the total number of keyword appearances in repositories found over the years. Here the keywords chemical sciences, biological sciences, and biomedical and clinical sciences all have high appearances in repositories. The total number of appearances range from 140 to 240. You can use the tooltip to hover over the points in the plot and get more information."
   ]
  },
  {
   "cell_type": "code",
   "execution_count": null,
   "metadata": {},
   "outputs": [],
   "source": [
    "keywords_pubyrs = keywords.sort_values(by=\"tot_appearances\")\n",
    "#look into altering figure size\n",
    "fig = px.scatter(keywords_pubyrs,\n",
    "           x=\"publicationYear\", y=\"keywords\",\n",
    "           hover_name=\"keywords\",\n",
    "           hover_data=['author(s)', 'publisher', 'title', 'keywords'],\n",
    "           color=\"tot_appearances\",\n",
    "        #    size=\"publicationYear\",\n",
    "        #    facet_col=\"publisher_categories\", \n",
    "         #   facet_row=\"publicationYear\",\n",
    "           labels={\n",
    "                     \"publicationYear\": \"Publication Year\",\n",
    "                     \"tot_appearances\": \"Total Keyword Appearances\",\n",
    "                 },\n",
    "           height=800,\n",
    "          #  width= 1600,\n",
    "          \n",
    "           title=\"Repository Impact: Total Keyword Appearances Over The Years\")\n",
    "fig.update_xaxes(tickangle=45)\n",
    "fig.update_yaxes(showticklabels=False)\n",
    "\n"
   ]
  },
  {
   "cell_type": "code",
   "execution_count": null,
   "metadata": {},
   "outputs": [],
   "source": [
    "keywords_pubs = keywords.sort_values(by=\"tot_publishers\")\n",
    "fig_pub_appearance = px.scatter(keywords_pubs,\n",
    "           x=\"publicationYear\", y=\"keywords\",\n",
    "           hover_name=\"keywords\",\n",
    "           hover_data=['publicationYear','author(s)', 'publisher', 'title', 'keywords'],\n",
    "           color=\"tot_publishers\",\n",
    "        #    size=\"publicationYear\",\n",
    "          #  facet_col=\"publisher_categories\", \n",
    "         #   facet_row=\"publicationYear\",\n",
    "           labels={\n",
    "                    #  \"keywords\": \"\",\n",
    "                     \"publicationYear\": \" Publication Year\",\n",
    "                     \"tot_publishers\": \"Total Publisher Appearances\"\n",
    "                 },\n",
    "           height=800,\n",
    "           title=\"Repository Impact: Number of Repositories that use the Keyword\")\n",
    "fig_pub_appearance.update_yaxes(showticklabels=False)\n"
   ]
  },
  {
   "cell_type": "markdown",
   "metadata": {},
   "source": [
    "The repositories below are split into six different Topics and the keywords are shown to be grouped into those categories. Here you can see that scientific seems to be the largest topic. "
   ]
  },
  {
   "cell_type": "code",
   "execution_count": null,
   "metadata": {},
   "outputs": [],
   "source": [
    "keywords_pubs = keywords.sort_values(by=\"keywords\")\n",
    "\n",
    "#group keywords and publishers to show the different facets\n",
    "\n",
    "fig_pubs_keywords = px.scatter(keywords_pubs,\n",
    "           x=\"publicationYear\", y=\"keywords\",\n",
    "           hover_name=\"keywords\",\n",
    "           hover_data=['publisher','publicationYear','author(s)', \"tot_publishers\", 'title', \"publisher_categories\", 'keywords'],\n",
    "           color=\"publisher_categories\",\n",
    "        #    size=\"publicationYear\",\n",
    "           labels={\n",
    "                     'publisher': \"Repository\",\n",
    "                     \"publisher_categories\": \"Repository Topics\",\n",
    "                     \"publicationYear\": \"Publication Year\",\n",
    "                     \"tot_publishers\": \"Total Publisher Appearances\"\n",
    "                 },\n",
    "           height=600,\n",
    "           title=\"Repository Impact: Keywords/Topics Published Per Repository\")\n",
    "# fig_pubs_keywords\n",
    "fig_pubs_keywords.update_yaxes(showticklabels=False)\n"
   ]
  },
  {
   "cell_type": "markdown",
   "metadata": {},
   "source": [
    "Below is a more faceted version of the repository topics that shows the keyword appearances for each repository topics. Here we can see the same keywords have higher appearances overall, but categories like social sciences and Math/physics/computer science have different keywords such as physical sciences (n = 8), economics (n = 6) and human society (N = 4). Although chemical sciences had the highest appearances in total, the biomedical sciences keyword (n = 13) was found in all but the social sciences topic categories. "
   ]
  },
  {
   "cell_type": "code",
   "execution_count": null,
   "metadata": {},
   "outputs": [],
   "source": [
    "keywords_pubs = keywords.sort_values(by=\"tot_publishers\")\n",
    "fig_key_repository =  px.scatter(keywords_pubs,\n",
    "           x=\"publicationYear\", y=\"keywords\",\n",
    "           hover_name=\"keywords\",\n",
    "           hover_data=['publicationYear','author(s)', 'publisher', \"publisher_categories\", 'title', 'keywords'],\n",
    "           color=\"tot_publishers\",\n",
    "        #    size=\"publicationYear\",\n",
    "           facet_col=\"publisher_categories\", \n",
    "         #   facet_row=\"publicationYear\",\n",
    "           labels={\n",
    "                     \"publisher_categories\": \"\",\n",
    "                     \"publisher\": \"Repository\",\n",
    "                     \"publicationYear\": \"Publication Year\",\n",
    "                     \"tot_publishers\": \"Total Publisher Appearances\"\n",
    "                 },\n",
    "           height=800,\n",
    "           title=\"Repository Impact: Number of Repositories that use the Keyword\")\n",
    "fig_key_repository.update_yaxes(showticklabels=False)\n"
   ]
  },
  {
   "cell_type": "markdown",
   "metadata": {},
   "source": [
    "### Authors\n",
    "___________________________________\n",
    "Now we'll look at the impact Authors have on repositories."
   ]
  },
  {
   "cell_type": "code",
   "execution_count": null,
   "metadata": {},
   "outputs": [],
   "source": [
    "authors = pd.read_csv(\"data/authors.csv\")"
   ]
  },
  {
   "cell_type": "code",
   "execution_count": null,
   "metadata": {},
   "outputs": [],
   "source": [
    "author_appearance = authors.sort_values(by=\"tot_appearances\")\n",
    "\n",
    "fig_author  = px.scatter(author_appearance,\n",
    "           x=\"publicationYear\", y= \"author(s)\",\n",
    "           hover_name=\"author(s)\",\n",
    "           hover_data=['tot_appearances','publicationYear', 'author(s)', 'publisher', 'title', 'keywords'],\n",
    "           color= \"tot_appearances\",\n",
    "        #    size=\"publicationYear\",\n",
    "           labels={\n",
    "                     \"author(s)\": \"Author(s)\",\n",
    "                     \"publicationYear\": \"Publication Year\",\n",
    "                     \"tot_appearances\": \"Total Author Appearances\"\n",
    "                 },\n",
    "           height=600,\n",
    "           title=\"Researcher Impact: Authors Published Over the Years\")\n",
    "fig_author.update_yaxes(showticklabels=False)\n"
   ]
  },
  {
   "cell_type": "markdown",
   "metadata": {},
   "source": [
    "Below shows the total number of repositories an authors published in. most authors have only published in one repository, where a little more show begging published in two repositories, and only a handful have published in 5 different repositories."
   ]
  },
  {
   "cell_type": "code",
   "execution_count": null,
   "metadata": {},
   "outputs": [],
   "source": [
    "author_pub = authors.sort_values(by=\"tot_publishers\")\n",
    "\n",
    "fig_auth_pub = px.scatter(author_pub,\n",
    "           x=\"publicationYear\", y= \"author(s)\",\n",
    "           hover_name=\"author(s)\",\n",
    "           hover_data=['tot_appearances','publicationYear', 'author(s)', 'publisher', 'title', 'keywords'],\n",
    "           color= \"tot_publishers\",\n",
    "        #    size=\"publicationYear\",\n",
    "           labels={\n",
    "                     \"author(s)\": \"Author(s)\",\n",
    "                     \"publicationYear\": \"Publication Year\",\n",
    "                     \"tot_publishers\": \"Total Appearances in a Repository\",\n",
    "                     \"tot_appearances\": \"Total Appearances Overall\"\n",
    "                 },\n",
    "           height=600,\n",
    "           title=\"Researcher Impact: Authors Published in Repositories Over the Years\")\n",
    "fig_auth_pub.update_yaxes(showticklabels=False)"
   ]
  },
  {
   "cell_type": "code",
   "execution_count": null,
   "metadata": {},
   "outputs": [],
   "source": [
    "author_pubs = authors.sort_values(by=\"tot_publishers\")\n",
    "fig_auth = px.scatter(author_pubs,\n",
    "           x=\"publicationYear\", y=\"author(s)\",\n",
    "           hover_name=\"author(s)\",\n",
    "           hover_data=['publicationYear','author(s)', 'publisher', \"publisher_categories\", 'title', 'keywords'],\n",
    "           color=\"tot_publishers\",\n",
    "        #    size=\"publicationYear\",\n",
    "           facet_col=\"publisher_categories\", \n",
    "         #   facet_row=\"publicationYear\",\n",
    "           labels={\n",
    "                     \"author(s)\": \"Author(s)\",\n",
    "                     \"publisher_categories\": \"\",\n",
    "                     \"publisher\": \"Repository\",\n",
    "                     \"publicationYear\": \"Publication Year\",\n",
    "                     \"tot_publishers\": \"Total Appearances in a Repository\",\n",
    "                     \"tot_appearances\": \"Total Appearances Overall\",\n",
    "                     \"title\": \"Title\",\n",
    "                 },\n",
    "           height=800,\n",
    "           title=\"Repository Impact: Number of Repositories where an Author Appears\")\n",
    "fig_auth.update_xaxes(tickangle=45, nticks=8)\n",
    "fig_auth.update_yaxes(showticklabels=False)\n",
    "\n",
    "## Add a note for how to read the graph. i.e. the y axis does not represent all the authors\n",
    "## convert tot publishers to string data type"
   ]
  }
 ],
 "metadata": {
  "language_info": {
   "name": "python"
  }
 },
 "nbformat": 4,
 "nbformat_minor": 2
}
